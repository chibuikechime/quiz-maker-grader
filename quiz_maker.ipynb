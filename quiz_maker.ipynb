{
 "cells": [
  {
   "cell_type": "markdown",
   "id": "216294ce-de99-4960-b4d0-a98c25513a97",
   "metadata": {},
   "source": [
    "📌 1. Predefined Quiz Questions"
   ]
  },
  {
   "cell_type": "code",
   "execution_count": 1,
   "id": "ca3152c8-2231-4319-ad42-3cb1efeba4dc",
   "metadata": {},
   "outputs": [],
   "source": [
    "# This dictionary stores quiz questions along with their options and the correct answer.\n",
    "\n",
    "quiz_questions = {\n",
    "  \"What is the correct way to write a single-line comment in Python?\": {\n",
    "    \"options\": [\"A. // This is a comment\", \"B. # This is a comment\", \"C. /* This is a comment */\", \"D. <!-- This is a comment -->\", \"E. ** This is a comment\"],\n",
    "    \"answer\": \"B\"\n",
    "  },\n",
    "  \"Which of the following is a valid variable name in Python?\": {\n",
    "    \"options\": [\"A. 2variable\", \"B. variable_name\", \"C. variable-name\", \"D. variable@name\", \"E. class\"],\n",
    "    \"answer\": \"B\"\n",
    "  },\n",
    "  \"What does the `print()` function do in Python?\": {\n",
    "    \"options\": [\"A. Reads user input\", \"B. Outputs text to the console\", \"C. Defines a function\", \"D. Imports a module\", \"E. Creates a loop\"],\n",
    "    \"answer\": \"B\"\n",
    "  },\n",
    "  \"Which data type is used to store a sequence of characters in Python?\": {\n",
    "    \"options\": [\"A. int\", \"B. float\", \"C. str\", \"D. bool\", \"E. list\"],\n",
    "    \"answer\": \"C\"\n",
    "  },\n",
    "  \"What is the output of `3 + 2 * 2` in Python?\": {\n",
    "    \"options\": [\"A. 10\", \"B. 7\", \"C. 12\", \"D. 5\", \"E. 8\"],\n",
    "    \"answer\": \"B\"\n",
    "  },\n",
    "  \"Which keyword is used to define a function in Python?\": {\n",
    "    \"options\": [\"A. func\", \"B. define\", \"C. def\", \"D. function\", \"E. lambda\"],\n",
    "    \"answer\": \"C\"\n",
    "  },\n",
    "  \"What does the `len()` function return when applied to a string?\": {\n",
    "    \"options\": [\"A. The number of words\", \"B. The number of characters\", \"C. The number of lines\", \"D. The number of spaces\", \"E. The number of vowels\"],\n",
    "    \"answer\": \"B\"\n",
    "  },\n",
    "  \"Which of the following is the correct way to create a list in Python?\": {\n",
    "    \"options\": [\"A. {1, 2, 3}\", \"B. (1, 2, 3)\", \"C. [1, 2, 3]\", \"D. <1, 2, 3>\", \"E. {1: 2, 3: 4}\"],\n",
    "    \"answer\": \"C\"\n",
    "  },\n",
    "  \"What is the result of the expression `10 // 3` in Python?\": {\n",
    "    \"options\": [\"A. 3.33\", \"B. 4\", \"C. 3\", \"D. 1\", \"E. 0\"],\n",
    "    \"answer\": \"C\"\n",
    "  },\n",
    "  \"Which loop is used to iterate over a sequence (like a list or string) in Python?\": {\n",
    "    \"options\": [\"A. while\", \"B. do\", \"C. for\", \"D. loop\", \"E. repeat\"],\n",
    "    \"answer\": \"C\"\n",
    "  }\n",
    "} "
   ]
  },
  {
   "cell_type": "markdown",
   "id": "70f668a7-aef4-419d-bc16-d8a84c14c4f6",
   "metadata": {},
   "source": [
    "🛠️ 2. Add Custom Questions"
   ]
  },
  {
   "cell_type": "code",
   "execution_count": 2,
   "id": "8e5271aa-44c2-4b1e-8d8c-0e230c936679",
   "metadata": {},
   "outputs": [],
   "source": [
    "# This function lets an admin add their own questions to the quiz.\n",
    "\n",
    "def add_custom_questions(): \n",
    "    print(\"\\n📝 Add Your Own Questions (type 'done' to stop)\\n\")\n",
    "    \n",
    "    while True: \n",
    "        # Ask the user to enter a question or type 'done' to stop.\n",
    "        question = input(\"Enter your question (or type 'done' to finish): \") \n",
    "        if question.lower() == \"done\":\n",
    "            break\n",
    "        \n",
    "        options = [] # Store the answer choices here\n",
    "        for i in [\"A\", \"B\", \"C\", \"D\", \"E\"]: \n",
    "            option = input(f\"Enter option {i}: \") # Ask for each option\n",
    "            options.append(f\"{i}.{option}\") # Label the option and store it\n",
    "        \n",
    "        # Ask the user for the correct answer\n",
    "        answer = input(\"Enter the correct answer (A, B, C, D or E): \").strip().upper() # asks the user to specify the correct answer\n",
    "        \n",
    "        # Save the question if the answer is valid\n",
    "        if answer in [\"A\", \"B\", \"C\", \"D\", \"E\"]:\n",
    "            quiz_questions[questions] = {\"options\": options, \"answer\": answer} # Stores questions, options and answer in a dictionary\n",
    "            print(\"✅ Questions added!\\n\")\n",
    "        else:\n",
    "            print(\"❌ Invalid answer. Please use A, B, C, D or E.\\n\")\n",
    "            "
   ]
  },
  {
   "cell_type": "markdown",
   "id": "90c0c727-3eb2-4ef6-ac95-662fa1187aa2",
   "metadata": {},
   "source": [
    "🎯 3. Run the Quiz"
   ]
  },
  {
   "cell_type": "code",
   "execution_count": 3,
   "id": "d78f460f-1031-489d-a144-e2cd7eae5d8f",
   "metadata": {},
   "outputs": [],
   "source": [
    "# This function runs the quiz and keeps track of the score.\n",
    "def run_quiz():\n",
    "    print(\"\\n🧠 Welcome to the quiz! Type A, B, C, D, or E to answer.\") # Welcomes the User\n",
    "\n",
    "    score = 0 # Start the score at 0\n",
    "    total = len(quiz_questions) # Total number of questions\n",
    "\n",
    "    # Go through each question one by one\n",
    "    for question, details in quiz_questions.items(): \n",
    "        print(\"\\n\" + question) \n",
    "        for option in details[\"options\"]:\n",
    "            print(option)\n",
    "        \n",
    "        # Get the user's answer\n",
    "        answer = input(\"Your answer: \").strip().upper()\n",
    "\n",
    "        # Check if the answer is correct\n",
    "        if answer == details[\"answer\"]: \n",
    "            print(\"✅ Correct!\")\n",
    "            score += 1\n",
    "        else:\n",
    "            print(f\"❌ Incorrect. The correct answer is {details['answer']}\")\n",
    "\n",
    "    print(f\"\\n🏁 Quiz Complete! Your final score is {score}/{total}\") \n",
    "    return score, total"
   ]
  },
  {
   "cell_type": "markdown",
   "id": "da8eb346-29a5-474a-84f7-40e052247a02",
   "metadata": {},
   "source": [
    "💾 4. Save the Score"
   ]
  },
  {
   "cell_type": "code",
   "execution_count": 4,
   "id": "28e6e190-9ba9-4f44-8604-7ed8d456a55c",
   "metadata": {},
   "outputs": [],
   "source": [
    "# This function saves the quiz result to a file.\n",
    "def save_score(name, score, total):\n",
    "    with open(\"quiz_scores.txt\", \"a\") as file:\n",
    "        file.write(f\"{name}: {score}/{total}\\n\")\n",
    "    print(\"📂 Your score has been saved!\\n\")"
   ]
  },
  {
   "cell_type": "markdown",
   "id": "2e5d0d7b-0d88-42fb-b498-2e9b04c1aea3",
   "metadata": {},
   "source": [
    "🚀 5. Main Function to Start the Program"
   ]
  },
  {
   "cell_type": "code",
   "execution_count": 5,
   "id": "69df0657-5481-45bc-9c70-166106578f6c",
   "metadata": {},
   "outputs": [],
   "source": [
    "# This function asks the user for their role and starts the appropriate process.\n",
    "\n",
    "def main():\n",
    "    print(\"🎉 Welcome to the Quiz Maker & Grader!\")\n",
    "    \n",
    "    name = input(\"Enter your name: \")\n",
    "    role = input(\"Enter your role (admin/student): \").lower()\n",
    "\n",
    "    if role == \"admin\":\n",
    "        print(f\"\\n🔐 Admin Access Granted. Hello, {name}!\")\n",
    "        add_q = input(\"Would you like to add your questions? (yes/no): \").lower()\n",
    "        if add.q == \"yes\":\n",
    "            add_custom_questions()\n",
    "    elif role == \"student\":\n",
    "        print(f\"\\n👋 Hello, {name}! Let's begin your quiz.\")\n",
    "    else:\n",
    "        print(\"❌ Invalid role. Exiting program.\")\n",
    "        return\n",
    "\n",
    "    # Start the quiz and save the results\n",
    "    score, total = run_quiz()\n",
    "    save_score(name, score, total)"
   ]
  },
  {
   "cell_type": "code",
   "execution_count": null,
   "id": "5562fb98-a548-4153-ade8-ad113e2be3e4",
   "metadata": {},
   "outputs": [],
   "source": []
  }
 ],
 "metadata": {
  "kernelspec": {
   "display_name": "Python 3 (ipykernel)",
   "language": "python",
   "name": "python3"
  },
  "language_info": {
   "codemirror_mode": {
    "name": "ipython",
    "version": 3
   },
   "file_extension": ".py",
   "mimetype": "text/x-python",
   "name": "python",
   "nbconvert_exporter": "python",
   "pygments_lexer": "ipython3",
   "version": "3.12.7"
  }
 },
 "nbformat": 4,
 "nbformat_minor": 5
}
